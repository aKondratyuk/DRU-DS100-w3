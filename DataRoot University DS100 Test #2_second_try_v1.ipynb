{
 "cells": [
  {
   "cell_type": "markdown",
   "metadata": {},
   "source": [
    "# DataRoot University DS100 Test #2 Second Try\n",
    "На проходження тесту виділяється 59 хвилин."
   ]
  },
  {
   "cell_type": "markdown",
   "metadata": {},
   "source": [
    "## Python"
   ]
  },
  {
   "cell_type": "markdown",
   "metadata": {},
   "source": [
    "### 1.  Напишіть ф-цію - генератор паролів. Будьте креативними в тому, як ви створюєте паролі - сильні паролі містять малі та великі літери, цифри та символи. Паролі повинні бути випадковими. Ф-ція повинна створювати новий пароль кожного разу при її виклику. Ф-ція приймає параметр n (n > 6), який відповідає за довжину паролю.\n",
    "\n",
    "```\n",
    "```\n",
    "```\n",
    "```\n",
    "```\n",
    "```\n",
    "```\n",
    "Максимальна оцінка: 2 бали\n",
    "Рекомендований час: 6хв\n",
    "```"
   ]
  },
  {
   "cell_type": "code",
   "execution_count": 5,
   "metadata": {},
   "outputs": [
    {
     "name": "stdout",
     "output_type": "stream",
     "text": [
      "Введіть довжину вашого паролю, мінімум 7 символів: 7\n",
      "Пароль: O9ZE;+B\n"
     ]
    }
   ],
   "source": [
    "import string\n",
    "from random import *\n",
    "\n",
    "letters = string.ascii_letters\n",
    "digits = string.digits\n",
    "symbols = string.punctuation\n",
    "chars = letters + digits + symbols\n",
    "\n",
    "min_length = 7\n",
    "max_length = int(input(\"Введіть довжину вашого паролю, мінімум 7 символів: \"))\n",
    "assert (max_length >= 7), \"Мінімальна довжина паролю складає 7 символів! Повторіть спробу!\"\n",
    "password = \"\".join(choice(chars) for x in range(randint(min_length, max_length)))\n",
    "print(\"Пароль: \" + password)"
   ]
  },
  {
   "cell_type": "markdown",
   "metadata": {},
   "source": [
    "### 2.  Реалізуйте ф-цію, яка перевіряє, чи є слово паліндромом:\n",
    "\n",
    "```\n",
    "```\n",
    "```\n",
    "```\n",
    "```\n",
    "```\n",
    "```\n",
    "Максимальна оцінка: 2 бали\n",
    "Рекомендований час: 6хв\n",
    "```"
   ]
  },
  {
   "cell_type": "code",
   "execution_count": 8,
   "metadata": {},
   "outputs": [
    {
     "name": "stdout",
     "output_type": "stream",
     "text": [
      "ololo\n",
      "Слово ololo є паліндромом\n"
     ]
    }
   ],
   "source": [
    "def palindrome(word):\n",
    "    if word == word[::-1]:\n",
    "        print(\"Слово \" + word + \" є паліндромом\")\n",
    "    else:\n",
    "        print(\"Введене слово не є паліндромом\")\n",
    "palindrome(input())"
   ]
  },
  {
   "cell_type": "markdown",
   "metadata": {},
   "source": [
    "### 3. Напишіть програму, яка приймає 2 невід'ємні цифри, X, Y як вхід і генерує 2-мірний масив. Значення елемента в i-му рядку і j-му стовпчику масиву має бути i * j, де i = 0, 1 .., X-1; j = 0, 1, .., Y-1.\n",
    "\n",
    "Приклад:\n",
    "Припустімо, що до програми наведені наступні входи:\n",
    "3,5. \n",
    "Виходом програми має бути:\n",
    "[[0, 0, 0, 0, 0], [0, 1, 2, 3, 4], [0, 2, 4, 6, 8]]\n",
    "\n",
    "```\n",
    "```\n",
    "```\n",
    "```\n",
    "```\n",
    "```\n",
    "```\n",
    "Максимальна оцінка: 2 бали\n",
    "Рекомендований час: 6хв\n",
    "```"
   ]
  },
  {
   "cell_type": "code",
   "execution_count": 13,
   "metadata": {},
   "outputs": [
    {
     "name": "stdout",
     "output_type": "stream",
     "text": [
      "Введіть кількість рядків: 3\n",
      "Введіть кількість стовбців: 5\n",
      "[[0, 0, 0, 0, 0], [0, 1, 2, 3, 4], [0, 2, 4, 6, 8]]\n"
     ]
    }
   ],
   "source": [
    "Y = int(input(\"Введіть кількість стовбців: \"))\n",
    "assert (X >= 0), \"Число має бути більше, або рівне нуля!\"\n",
    "X = int(input(\"Введіть кількість рядків: \"))\n",
    "assert (X >= 0), \"Число має бути більше, або рівне нуля!\"\n",
    "\n",
    "matrix = [[i * j for j in range(X)] for i in range(Y)]\n",
    "print(matrix)"
   ]
  },
  {
   "cell_type": "markdown",
   "metadata": {},
   "source": [
    "### 4. Реалізуйте клас Torus, який створюється за двома радіусами r, R, R > r. Містить два методи, які повертають відповідно: площу поверхні та об'єм.\n",
    "\n",
    "```\n",
    "```\n",
    "```\n",
    "```\n",
    "```\n",
    "```\n",
    "```\n",
    "Максимальна оцінка: 3 бали\n",
    "Рекомендований час: 6хв\n",
    "```"
   ]
  },
  {
   "cell_type": "code",
   "execution_count": 22,
   "metadata": {},
   "outputs": [
    {
     "name": "stdout",
     "output_type": "stream",
     "text": [
      "Введіть радіус r перерізу тора: 2\n"
     ]
    },
    {
     "ename": "TypeError",
     "evalue": "__init__() missing 1 required positional argument: 'Radius'",
     "output_type": "error",
     "traceback": [
      "\u001b[1;31m---------------------------------------------------------------------------\u001b[0m",
      "\u001b[1;31mTypeError\u001b[0m                                 Traceback (most recent call last)",
      "\u001b[1;32m<ipython-input-22-b7359e600641>\u001b[0m in \u001b[0;36m<module>\u001b[1;34m()\u001b[0m\n\u001b[0;32m     27\u001b[0m     \u001b[0mprint\u001b[0m \u001b[1;33m(\u001b[0m\u001b[1;34m\"Обм'єм :\"\u001b[0m \u001b[1;33m,\u001b[0m \u001b[0mv\u001b[0m\u001b[1;33m)\u001b[0m\u001b[1;33m\u001b[0m\u001b[0m\n\u001b[0;32m     28\u001b[0m     \u001b[0mprint\u001b[0m \u001b[1;33m(\u001b[0m\u001b[1;34m\"Поверхня: \"\u001b[0m \u001b[1;33m,\u001b[0m \u001b[0ma\u001b[0m\u001b[1;33m)\u001b[0m\u001b[1;33m\u001b[0m\u001b[0m\n\u001b[1;32m---> 29\u001b[1;33m \u001b[0mmain\u001b[0m\u001b[1;33m(\u001b[0m\u001b[1;33m)\u001b[0m\u001b[1;33m\u001b[0m\u001b[0m\n\u001b[0m",
      "\u001b[1;32m<ipython-input-22-b7359e600641>\u001b[0m in \u001b[0;36mmain\u001b[1;34m()\u001b[0m\n\u001b[0;32m     21\u001b[0m \u001b[1;32mdef\u001b[0m \u001b[0mmain\u001b[0m\u001b[1;33m(\u001b[0m\u001b[1;33m)\u001b[0m\u001b[1;33m:\u001b[0m\u001b[1;33m\u001b[0m\u001b[0m\n\u001b[0;32m     22\u001b[0m     \u001b[0mr\u001b[0m \u001b[1;33m=\u001b[0m \u001b[0minput\u001b[0m\u001b[1;33m(\u001b[0m\u001b[1;34m\"Введіть радіус r перерізу тора: \"\u001b[0m\u001b[1;33m)\u001b[0m\u001b[1;33m\u001b[0m\u001b[0m\n\u001b[1;32m---> 23\u001b[1;33m     \u001b[0mradius\u001b[0m \u001b[1;33m=\u001b[0m \u001b[0mThorus\u001b[0m\u001b[1;33m(\u001b[0m\u001b[0mr\u001b[0m\u001b[1;33m)\u001b[0m\u001b[1;33m\u001b[0m\u001b[0m\n\u001b[0m\u001b[0;32m     24\u001b[0m \u001b[1;33m\u001b[0m\u001b[0m\n\u001b[0;32m     25\u001b[0m     \u001b[0mv\u001b[0m \u001b[1;33m=\u001b[0m \u001b[0mradius\u001b[0m\u001b[1;33m.\u001b[0m\u001b[0mvolume\u001b[0m\u001b[1;33m(\u001b[0m\u001b[1;33m)\u001b[0m\u001b[1;33m\u001b[0m\u001b[0m\n",
      "\u001b[1;31mTypeError\u001b[0m: __init__() missing 1 required positional argument: 'Radius'"
     ]
    }
   ],
   "source": [
    "from math import pi \n",
    "class Thorus:\n",
    "    def __init__(self, radius, Radius):\n",
    "        \n",
    "        self.radius = radius\n",
    "       \n",
    "        self.area = 0\n",
    "        self.volume = 0\n",
    "        \n",
    "    def getradius(self):\n",
    "        return self.radius\n",
    "    \n",
    "    \n",
    "    def surfaceArea(self):\n",
    "        self.area = 4 * pi**2 * (R*r)            \n",
    "        return self.area\n",
    "    def volume(self):\n",
    "        self.volume = 2 * pi**2 *(R*r**2)\n",
    "        return self.volume\n",
    "    \n",
    "def main():\n",
    "    r = input(\"Введіть радіус r перерізу тора: \") \n",
    "    radius = Thorus(r)\n",
    "    \n",
    "    v = radius.volume()\n",
    "    a = radius.surfaceArea()            \n",
    "    print (\"Обм'єм :\" , v)\n",
    "    print (\"Поверхня: \" , a)\n",
    "main()"
   ]
  },
  {
   "cell_type": "markdown",
   "metadata": {},
   "source": [
    "### 5.  Реалізуйте декоратор, який засікає час виконання ф-ції та логує його.\n",
    "\n",
    "```\n",
    "```\n",
    "```\n",
    "```\n",
    "```\n",
    "```\n",
    "```\n",
    "Максимальна оцінка: 2 бали\n",
    "Рекомендований час: 6хв\n",
    "```"
   ]
  },
  {
   "cell_type": "code",
   "execution_count": null,
   "metadata": {
    "collapsed": true
   },
   "outputs": [],
   "source": []
  },
  {
   "cell_type": "markdown",
   "metadata": {
    "collapsed": true
   },
   "source": [
    "## Libraries: numpy, scipy, pandas, matplotlib"
   ]
  },
  {
   "cell_type": "markdown",
   "metadata": {},
   "source": [
    "### Numpy"
   ]
  },
  {
   "cell_type": "markdown",
   "metadata": {
    "collapsed": true
   },
   "source": [
    "### 6. Помножте масив розмірності (5, 5, 3), на масив розмірності (5,5).\n",
    "```\n",
    "```\n",
    "```\n",
    "```\n",
    "```\n",
    "```\n",
    "```\n",
    "Максимальна оцінка: 2 бали\n",
    "Рекомендований час: 3хв\n",
    "```"
   ]
  },
  {
   "cell_type": "code",
   "execution_count": 56,
   "metadata": {},
   "outputs": [
    {
     "name": "stdout",
     "output_type": "stream",
     "text": [
      "[[ 0  0  0]\n",
      " [ 0  1  4]\n",
      " [ 0  4 16]\n",
      " [ 0  9 36]\n",
      " [ 0 16 64]]\n"
     ]
    }
   ],
   "source": [
    "import numpy as np\n",
    "\n",
    "Y1 = 5\n",
    "X1 = 3\n",
    "\n",
    "X2 = 3\n",
    "Y2 = 5\n",
    "\n",
    "matrix1 = np.array([[i * j for j in range(X1)] for i in range(Y1)])\n",
    "matrix2 = np.array([[i * j for j in range(X2)] for i in range(Y2)])\n",
    "print(matrix2 * matrix1)"
   ]
  },
  {
   "cell_type": "markdown",
   "metadata": {},
   "source": [
    "### 7. Поверніть з 2-вимірного масиву лінійно незалежні рядки.\n",
    "```\n",
    "```\n",
    "```\n",
    "```\n",
    "```\n",
    "```\n",
    "```\n",
    "Максимальна оцінка: 3 бали\n",
    "Рекомендований час: 6хв\n",
    "```"
   ]
  },
  {
   "cell_type": "code",
   "execution_count": 81,
   "metadata": {},
   "outputs": [
    {
     "name": "stdout",
     "output_type": "stream",
     "text": [
      "[[ 0.1910411   0.66499481  0.77990428  0.92927145  0.4013542   0.27238986\n",
      "   0.61865861  0.91444907  0.71668456  0.0319648   0.28048368  0.36378938\n",
      "   0.60680389  0.37367216  0.10110002  0.7618047   0.30742764  0.56501864\n",
      "   0.57950699  0.84666682  0.9748726 ]]\n",
      "[[ 0.1910411   0.66499481  0.77990428  0.92927145  0.4013542   0.27238986\n",
      "   0.61865861  0.91444907  0.71668456  0.0319648   0.28048368  0.36378938\n",
      "   0.60680389  0.37367216  0.10110002  0.7618047   0.30742764  0.56501864\n",
      "   0.57950699  0.84666682  0.9748726 ]]\n"
     ]
    }
   ],
   "source": []
  },
  {
   "cell_type": "markdown",
   "metadata": {},
   "source": [
    "### 8. Створіть випадковий вектор розміру 20 і замініть мінімальне за модулем значення на 0\n",
    "```\n",
    "```\n",
    "```\n",
    "```\n",
    "```\n",
    "```\n",
    "```\n",
    "Максимальна оцінка: 2 бали\n",
    "Рекомендований час: 3хв\n",
    "```"
   ]
  },
  {
   "cell_type": "code",
   "execution_count": null,
   "metadata": {
    "collapsed": true
   },
   "outputs": [],
   "source": []
  },
  {
   "cell_type": "markdown",
   "metadata": {},
   "source": [
    "### Pandas"
   ]
  },
  {
   "cell_type": "markdown",
   "metadata": {},
   "source": [
    "### 9. Скажімо, є DataFrame df зі стовпчиком \"A\" цілих чисел. Наприклад:\n"
   ]
  },
  {
   "cell_type": "code",
   "execution_count": 14,
   "metadata": {},
   "outputs": [],
   "source": [
    "import numpy as np\n",
    "import pandas as pd\n",
    "\n",
    "df = pd.DataFrame({'A': [1, 2, 2, 3, 4, 5, 5, 5, 6, 7, 7]})"
   ]
  },
  {
   "cell_type": "markdown",
   "metadata": {},
   "source": [
    "Відфільтруйте рядки, які містять таке ж число, як рядок, що безпосередньо вище.\n",
    "```\n",
    "```\n",
    "```\n",
    "```\n",
    "```\n",
    "```\n",
    "```\n",
    "Максимальна оцінка: 2 бали\n",
    "Рекомендований час: 3хв\n",
    "```"
   ]
  },
  {
   "cell_type": "code",
   "execution_count": null,
   "metadata": {
    "collapsed": true
   },
   "outputs": [],
   "source": []
  },
  {
   "cell_type": "markdown",
   "metadata": {},
   "source": [
    "### 10. Скажімо, є DataFrame df з числовими значеннями:"
   ]
  },
  {
   "cell_type": "code",
   "execution_count": 11,
   "metadata": {},
   "outputs": [],
   "source": [
    "df = pd.DataFrame(np.random.random(size=(5, 3)))"
   ]
  },
  {
   "cell_type": "markdown",
   "metadata": {},
   "source": [
    "Відніміть середнє значення рядку від кожного елементу у відповідному рядку.\n",
    "```\n",
    "```\n",
    "```\n",
    "```\n",
    "```\n",
    "```\n",
    "```\n",
    "Максимальна оцінка: 2 бали\n",
    "Рекомендований час: 3хв\n",
    "```"
   ]
  },
  {
   "cell_type": "code",
   "execution_count": null,
   "metadata": {
    "collapsed": true
   },
   "outputs": [],
   "source": []
  },
  {
   "cell_type": "markdown",
   "metadata": {},
   "source": [
    "### 11. Є DataFrame df зі стовпцями: групи - \"grps\" та значення - \"vals\":"
   ]
  },
  {
   "cell_type": "code",
   "execution_count": 13,
   "metadata": {},
   "outputs": [],
   "source": [
    "df = pd.DataFrame({'grps': list('aaabbcaabcccbbc'), \n",
    "                   'vals': [12,345,3,1,45,14,4,52,54,23,235,21,57,3,87]})"
   ]
  },
  {
   "cell_type": "markdown",
   "metadata": {
    "collapsed": true
   },
   "source": [
    "Для кожної групи знайдіть суму трьох найбільших значень.\n",
    "```\n",
    "```\n",
    "```\n",
    "```\n",
    "```\n",
    "```\n",
    "```\n",
    "Максимальна оцінка: 2 бали\n",
    "Рекомендований час: 3хв\n",
    "```"
   ]
  },
  {
   "cell_type": "code",
   "execution_count": null,
   "metadata": {
    "collapsed": true
   },
   "outputs": [],
   "source": []
  },
  {
   "cell_type": "markdown",
   "metadata": {},
   "source": [
    "## Scipy & Matplotlib"
   ]
  },
  {
   "cell_type": "markdown",
   "metadata": {},
   "source": [
    "### 12. За допомогою scipy згенерувати та за допомогою matplotlib побудувати вибірки, правильно підписавши осі та назвавши графік з обраними відповідними параметрами(завдання на повторення):"
   ]
  },
  {
   "cell_type": "markdown",
   "metadata": {},
   "source": [
    "#### 12.1. Виібрку з нормально розподіленої випадкової величини:\n",
    "```\n",
    "```\n",
    "```\n",
    "```\n",
    "```\n",
    "```\n",
    "```\n",
    "Максимальна оцінка: 2 бали\n",
    "Рекомендований час: 2хв\n",
    "```"
   ]
  },
  {
   "cell_type": "code",
   "execution_count": 98,
   "metadata": {
    "collapsed": true
   },
   "outputs": [],
   "source": [
    "import matplotlib.pyplot as plt\n",
    "import matplotlib.ticker as ticker\n",
    "\n",
    "from scipy.stats import norm\n",
    "\n"
   ]
  },
  {
   "cell_type": "markdown",
   "metadata": {},
   "source": [
    "#### 12.2. Вибірку з розподілу Бернулі:\n",
    "```\n",
    "```\n",
    "```\n",
    "```\n",
    "```\n",
    "```\n",
    "```\n",
    "Максимальна оцінка: 2 бали\n",
    "Рекомендований час: 2хв\n",
    "```"
   ]
  },
  {
   "cell_type": "code",
   "execution_count": null,
   "metadata": {
    "collapsed": true
   },
   "outputs": [],
   "source": []
  },
  {
   "cell_type": "markdown",
   "metadata": {},
   "source": [
    "#### 12.3. Вибірку з біноміального розподілу:\n",
    "```\n",
    "```\n",
    "```\n",
    "```\n",
    "```\n",
    "```\n",
    "```\n",
    "Максимальна оцінка: 2 бали\n",
    "Рекомендований час: 2хв\n",
    "```"
   ]
  },
  {
   "cell_type": "code",
   "execution_count": null,
   "metadata": {},
   "outputs": [],
   "source": []
  },
  {
   "cell_type": "markdown",
   "metadata": {
    "collapsed": true
   },
   "source": [
    "#### 12.4. Вибірку з розподілу Пуассона:\n",
    "```\n",
    "```\n",
    "```\n",
    "```\n",
    "```\n",
    "```\n",
    "```\n",
    "Максимальна оцінка: 2 бали\n",
    "Рекомендований час: 2хв\n",
    "```"
   ]
  },
  {
   "cell_type": "code",
   "execution_count": 99,
   "metadata": {},
   "outputs": [
    {
     "data": {
      "image/png": "[encoded data removed]",
      "text/plain": [
       "<matplotlib.figure.Figure at 0x17dfde6e748>"
      ]
     },
     "metadata": {},
     "output_type": "display_data"
    }
   ],
   "source": [
    "fig, ax = plt.subplots(figsize=(18.5, 10.5))\n",
    "\n",
    "s = np.random.poisson(1, 2000)\n",
    "\n",
    "count, bins, ignored = plt.hist(s, normed=True, alpha=.6)\n",
    "\n",
    "plt.xlabel('Значення')\n",
    "plt.ylabel('Значення розподілу')\n",
    "plt.title('Розподіл Пуассона')\n",
    "\n",
    "plt.show()"
   ]
  }
 ],
 "metadata": {
  "kernelspec": {
   "display_name": "Python 3",
   "language": "python",
   "name": "python3"
  },
  "language_info": {
   "codemirror_mode": {
    "name": "ipython",
    "version": 3
   },
   "file_extension": ".py",
   "mimetype": "text/x-python",
   "name": "python",
   "nbconvert_exporter": "python",
   "pygments_lexer": "ipython3",
   "version": "3.6.3"
  }
 },
 "nbformat": 4,
 "nbformat_minor": 2
}
